{
 "cells": [
  {
   "cell_type": "code",
   "execution_count": 33,
   "metadata": {},
   "outputs": [],
   "source": [
    "import os\n",
    "import sys\n",
    "import json\n",
    "sys.path.append(\"..\")\n",
    "import pandas as pd\n",
    "import mlflow\n",
    "from sklearn.model_selection import cross_validate\n",
    "import numpy as np\n",
    "import pandas as pd\n",
    "from settings import PROJECT_PATH, CLASSIFICATION_TARGET, REGRESSION_TARGET, random_state\n",
    "from mlflow.tracking import MlflowClient\n"
   ]
  },
  {
   "cell_type": "code",
   "execution_count": 25,
   "metadata": {},
   "outputs": [
    {
     "data": {
      "text/html": [
       "<div>\n",
       "<style scoped>\n",
       "    .dataframe tbody tr th:only-of-type {\n",
       "        vertical-align: middle;\n",
       "    }\n",
       "\n",
       "    .dataframe tbody tr th {\n",
       "        vertical-align: top;\n",
       "    }\n",
       "\n",
       "    .dataframe thead th {\n",
       "        text-align: right;\n",
       "    }\n",
       "</style>\n",
       "<table border=\"1\" class=\"dataframe\">\n",
       "  <thead>\n",
       "    <tr style=\"text-align: right;\">\n",
       "      <th></th>\n",
       "      <th>prix</th>\n",
       "      <th>vefa</th>\n",
       "      <th>n_pieces</th>\n",
       "      <th>surface_habitable</th>\n",
       "      <th>latitude</th>\n",
       "      <th>longitude</th>\n",
       "      <th>mois_transaction</th>\n",
       "      <th>annee_transaction</th>\n",
       "      <th>en_dessous_du_marche</th>\n",
       "      <th>prix_m2_moyen_mois_precedent</th>\n",
       "      <th>nb_transactions_mois_precedent</th>\n",
       "      <th>prix_m2_moyen_glissant_6m</th>\n",
       "      <th>nb_transaction_moyen_glissant_6m</th>\n",
       "      <th>type_batiment_Maison</th>\n",
       "      <th>nom_region_Nouvelle-Aquitaine</th>\n",
       "      <th>nom_region_Occitanie</th>\n",
       "      <th>nom_region_Provence-Alpes-Côte d'Azur</th>\n",
       "      <th>nom_region_Île-de-France</th>\n",
       "    </tr>\n",
       "  </thead>\n",
       "  <tbody>\n",
       "    <tr>\n",
       "      <th>0</th>\n",
       "      <td>30000.0</td>\n",
       "      <td>0</td>\n",
       "      <td>1</td>\n",
       "      <td>34</td>\n",
       "      <td>46.210785</td>\n",
       "      <td>5.228714</td>\n",
       "      <td>6</td>\n",
       "      <td>2018</td>\n",
       "      <td>1</td>\n",
       "      <td>1241.19</td>\n",
       "      <td>11.0</td>\n",
       "      <td>1243.101667</td>\n",
       "      <td>16.666667</td>\n",
       "      <td>0</td>\n",
       "      <td>0</td>\n",
       "      <td>0</td>\n",
       "      <td>0</td>\n",
       "      <td>0</td>\n",
       "    </tr>\n",
       "    <tr>\n",
       "      <th>1</th>\n",
       "      <td>73000.0</td>\n",
       "      <td>0</td>\n",
       "      <td>4</td>\n",
       "      <td>77</td>\n",
       "      <td>46.190439</td>\n",
       "      <td>5.238234</td>\n",
       "      <td>6</td>\n",
       "      <td>2018</td>\n",
       "      <td>1</td>\n",
       "      <td>1241.19</td>\n",
       "      <td>11.0</td>\n",
       "      <td>1243.101667</td>\n",
       "      <td>16.666667</td>\n",
       "      <td>0</td>\n",
       "      <td>0</td>\n",
       "      <td>0</td>\n",
       "      <td>0</td>\n",
       "      <td>0</td>\n",
       "    </tr>\n",
       "    <tr>\n",
       "      <th>2</th>\n",
       "      <td>185000.0</td>\n",
       "      <td>0</td>\n",
       "      <td>5</td>\n",
       "      <td>107</td>\n",
       "      <td>46.196411</td>\n",
       "      <td>5.274976</td>\n",
       "      <td>6</td>\n",
       "      <td>2018</td>\n",
       "      <td>0</td>\n",
       "      <td>1241.19</td>\n",
       "      <td>11.0</td>\n",
       "      <td>1243.101667</td>\n",
       "      <td>16.666667</td>\n",
       "      <td>1</td>\n",
       "      <td>0</td>\n",
       "      <td>0</td>\n",
       "      <td>0</td>\n",
       "      <td>0</td>\n",
       "    </tr>\n",
       "    <tr>\n",
       "      <th>3</th>\n",
       "      <td>65000.0</td>\n",
       "      <td>0</td>\n",
       "      <td>3</td>\n",
       "      <td>65</td>\n",
       "      <td>46.211106</td>\n",
       "      <td>5.219147</td>\n",
       "      <td>6</td>\n",
       "      <td>2018</td>\n",
       "      <td>1</td>\n",
       "      <td>1241.19</td>\n",
       "      <td>11.0</td>\n",
       "      <td>1243.101667</td>\n",
       "      <td>16.666667</td>\n",
       "      <td>0</td>\n",
       "      <td>0</td>\n",
       "      <td>0</td>\n",
       "      <td>0</td>\n",
       "      <td>0</td>\n",
       "    </tr>\n",
       "    <tr>\n",
       "      <th>4</th>\n",
       "      <td>84000.0</td>\n",
       "      <td>0</td>\n",
       "      <td>4</td>\n",
       "      <td>86</td>\n",
       "      <td>46.213257</td>\n",
       "      <td>5.228674</td>\n",
       "      <td>6</td>\n",
       "      <td>2018</td>\n",
       "      <td>1</td>\n",
       "      <td>1241.19</td>\n",
       "      <td>11.0</td>\n",
       "      <td>1243.101667</td>\n",
       "      <td>16.666667</td>\n",
       "      <td>0</td>\n",
       "      <td>0</td>\n",
       "      <td>0</td>\n",
       "      <td>0</td>\n",
       "      <td>0</td>\n",
       "    </tr>\n",
       "  </tbody>\n",
       "</table>\n",
       "</div>"
      ],
      "text/plain": [
       "       prix  vefa  n_pieces  surface_habitable   latitude  longitude  \\\n",
       "0   30000.0     0         1                 34  46.210785   5.228714   \n",
       "1   73000.0     0         4                 77  46.190439   5.238234   \n",
       "2  185000.0     0         5                107  46.196411   5.274976   \n",
       "3   65000.0     0         3                 65  46.211106   5.219147   \n",
       "4   84000.0     0         4                 86  46.213257   5.228674   \n",
       "\n",
       "   mois_transaction  annee_transaction  en_dessous_du_marche  \\\n",
       "0                 6               2018                     1   \n",
       "1                 6               2018                     1   \n",
       "2                 6               2018                     0   \n",
       "3                 6               2018                     1   \n",
       "4                 6               2018                     1   \n",
       "\n",
       "   prix_m2_moyen_mois_precedent  nb_transactions_mois_precedent  \\\n",
       "0                       1241.19                            11.0   \n",
       "1                       1241.19                            11.0   \n",
       "2                       1241.19                            11.0   \n",
       "3                       1241.19                            11.0   \n",
       "4                       1241.19                            11.0   \n",
       "\n",
       "   prix_m2_moyen_glissant_6m  nb_transaction_moyen_glissant_6m  \\\n",
       "0                1243.101667                         16.666667   \n",
       "1                1243.101667                         16.666667   \n",
       "2                1243.101667                         16.666667   \n",
       "3                1243.101667                         16.666667   \n",
       "4                1243.101667                         16.666667   \n",
       "\n",
       "   type_batiment_Maison  nom_region_Nouvelle-Aquitaine  nom_region_Occitanie  \\\n",
       "0                     0                              0                     0   \n",
       "1                     0                              0                     0   \n",
       "2                     1                              0                     0   \n",
       "3                     0                              0                     0   \n",
       "4                     0                              0                     0   \n",
       "\n",
       "   nom_region_Provence-Alpes-Côte d'Azur  nom_region_Île-de-France  \n",
       "0                                      0                         0  \n",
       "1                                      0                         0  \n",
       "2                                      0                         0  \n",
       "3                                      0                         0  \n",
       "4                                      0                         0  "
      ]
     },
     "execution_count": 25,
     "metadata": {},
     "output_type": "execute_result"
    }
   ],
   "source": [
    "training_data = pd.read_parquet(os.path.join(PROJECT_PATH, 'data/interim/transactions_post_feature_engineering.parquet'))\n",
    "training_data.head()"
   ]
  },
  {
   "cell_type": "code",
   "execution_count": 26,
   "metadata": {},
   "outputs": [
    {
     "data": {
      "text/plain": [
       "(468115, 18)"
      ]
     },
     "execution_count": 26,
     "metadata": {},
     "output_type": "execute_result"
    }
   ],
   "source": [
    "training_data.shape"
   ]
  },
  {
   "cell_type": "code",
   "execution_count": 27,
   "metadata": {},
   "outputs": [
    {
     "name": "stdout",
     "output_type": "stream",
     "text": [
      "['vefa', 'surface_habitable', 'latitude', 'longitude', 'mois_transaction', 'annee_transaction', 'prix_m2_moyen_mois_precedent', 'nb_transactions_mois_precedent', 'prix_m2_moyen_glissant_6m', 'nb_transaction_moyen_glissant_6m', 'type_batiment_Maison', 'nom_region_Nouvelle-Aquitaine', 'nom_region_Occitanie', \"nom_region_Provence-Alpes-Côte d'Azur\", 'nom_region_Île-de-France']\n",
      "['surface_habitable', 'latitude', 'longitude', 'mois_transaction', 'annee_transaction', 'prix_m2_moyen_mois_precedent', 'nb_transactions_mois_precedent', 'prix_m2_moyen_glissant_6m', 'nb_transaction_moyen_glissant_6m']\n"
     ]
    }
   ],
   "source": [
    "with open (\"../preprocessing/features_used/features_name.json\", \"r\") as f :\n",
    "    features_name = json.load (f)\n",
    "\n",
    "with open(\"../preprocessing/features_used/numerical_features.json\", \"r\") as f :\n",
    "    numerical_features= json.load(f)\n",
    "print(features_name)\n",
    "print(numerical_features)"
   ]
  },
  {
   "cell_type": "code",
   "execution_count": 28,
   "metadata": {},
   "outputs": [
    {
     "name": "stdout",
     "output_type": "stream",
     "text": [
      "['vefa', 'type_batiment_Maison', 'nom_region_Nouvelle-Aquitaine', 'nom_region_Occitanie', \"nom_region_Provence-Alpes-Côte d'Azur\", 'nom_region_Île-de-France']\n"
     ]
    }
   ],
   "source": [
    "categorial_features = [col for col in features_name if col not in numerical_features]\n",
    "print(categorial_features)"
   ]
  },
  {
   "cell_type": "code",
   "execution_count": 29,
   "metadata": {},
   "outputs": [],
   "source": [
    "X= training_data.drop([REGRESSION_TARGET,CLASSIFICATION_TARGET],axis=1)\n",
    "y_regression = training_data[REGRESSION_TARGET]\n",
    "y_classification = training_data[CLASSIFICATION_TARGET]"
   ]
  },
  {
   "cell_type": "code",
   "execution_count": 34,
   "metadata": {},
   "outputs": [],
   "source": [
    "client = MlflowClient(tracking_uri=\"http://127.0.0.1:5000\")"
   ]
  },
  {
   "cell_type": "code",
   "execution_count": 37,
   "metadata": {},
   "outputs": [],
   "source": [
    "experiment_tags = {\n",
    "        \"prediction_type\": \"classification\",\n",
    "        \"étape\": \"training\",\n",
    "        \"date_de_construction\": \"Janvier 2025\"\n",
    "    }"
   ]
  },
  {
   "cell_type": "code",
   "execution_count": 38,
   "metadata": {},
   "outputs": [],
   "source": [
    "try:\n",
    "        prediction_experiment = client.create_experiment(\"prediction\", tags=experiment_tags)\n",
    "except:\n",
    "        prediction_experiment = mlflow.set_experiment(\"prediction\")"
   ]
  }
 ],
 "metadata": {
  "kernelspec": {
   "display_name": ".venv",
   "language": "python",
   "name": "python3"
  },
  "language_info": {
   "codemirror_mode": {
    "name": "ipython",
    "version": 3
   },
   "file_extension": ".py",
   "mimetype": "text/x-python",
   "name": "python",
   "nbconvert_exporter": "python",
   "pygments_lexer": "ipython3",
   "version": "3.11.11"
  }
 },
 "nbformat": 4,
 "nbformat_minor": 2
}
